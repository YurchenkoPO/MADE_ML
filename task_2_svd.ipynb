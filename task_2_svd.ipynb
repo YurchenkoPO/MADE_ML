{
 "cells": [
  {
   "cell_type": "code",
   "execution_count": 1,
   "metadata": {},
   "outputs": [],
   "source": [
    "import matplotlib.pyplot as plt\n",
    "import numpy as np\n",
    "import pandas as pd\n",
    "from sklearn.decomposition import PCA\n",
    "from sklearn.preprocessing import StandardScaler\n",
    "import scikitplot as skplt\n",
    "import seaborn as sns\n",
    "from scipy import linalg"
   ]
  },
  {
   "cell_type": "code",
   "execution_count": 2,
   "metadata": {},
   "outputs": [],
   "source": [
    "train = pd.read_csv('train.csv', delimiter=',', header = 0)\n",
    "test = pd.read_csv('test.csv', delimiter=',', header = 0)\n",
    "user_features = pd.read_csv('user-features.csv', delimiter = ',', header = 0)\n",
    "item_features = pd.read_csv('item-features.csv', delimiter=',', header = 0)"
   ]
  },
  {
   "cell_type": "code",
   "execution_count": 3,
   "metadata": {},
   "outputs": [
    {
     "name": "stdout",
     "output_type": "stream",
     "text": [
      "2 18 0.5\n",
      "18 22 0.5\n",
      "32 42 0.5476190476190477\n",
      "33 36 0.5277777777777778\n",
      "67 45 0.5111111111111111\n",
      "136 15 0.6666666666666666\n",
      "146 41 0.5365853658536586\n",
      "147 20 0.75\n"
     ]
    }
   ],
   "source": [
    "def code_mean(data, cat_feature, real_feature):\n",
    "    return dict(data.groupby(cat_feature)[real_feature].mean()), dict(data.groupby(cat_feature)[real_feature].count())\n",
    "\n",
    "\n",
    "pred = [76,35,37,22,60,65,80,72,66,200,58, 7,11,40,148,36,21,5,59,87]\n",
    "odd = [12,42,68,157,175,197,207,55,64,161,167,179,185,187,208,69,152,177,195,29]\n",
    "item_dict = code_mean(train, 'item_id', 'like')\n",
    "mean = item_dict[0]\n",
    "count = item_dict[1]\n",
    "#odd_keys = []\n",
    "for key, val in count.items():\n",
    "    if val >= 15:\n",
    "        if mean[key] >= 0.5 and key not in pred and key not in odd:\n",
    "            #odd_keys.append(key)\n",
    "            print(key, val, mean[key])"
   ]
  },
  {
   "cell_type": "code",
   "execution_count": 4,
   "metadata": {},
   "outputs": [],
   "source": [
    "train = train.loc[:, [col for col in train.columns if col != 'timestamp']]\n",
    "test = test.loc[:, [col for col in test.columns if col != 'timestamp']]\n",
    "item_features = item_features.sort_values(by=['item_id'])"
   ]
  },
  {
   "cell_type": "code",
   "execution_count": 5,
   "metadata": {},
   "outputs": [],
   "source": [
    "train = train[train['item_id'] < 209]\n",
    "item_features = item_features[item_features['item_id'] < 209]"
   ]
  },
  {
   "cell_type": "code",
   "execution_count": 6,
   "metadata": {},
   "outputs": [
    {
     "data": {
      "text/plain": [
       "'for column in user_matrix.T:\\n    plt.figure()\\n    #plt.hist(column, bins = 10)\\n    sns.kdeplot(column)'"
      ]
     },
     "execution_count": 6,
     "metadata": {},
     "output_type": "execute_result"
    }
   ],
   "source": [
    "'''for column in user_matrix.T:\n",
    "    plt.figure()\n",
    "    #plt.hist(column, bins = 10)\n",
    "    sns.kdeplot(column)'''"
   ]
  },
  {
   "cell_type": "code",
   "execution_count": 8,
   "metadata": {},
   "outputs": [
    {
     "data": {
      "text/plain": [
       "'for column in item_matrix.T:\\n    plt.figure()\\n    #plt.hist(column, bins = 10)\\n    sns.kdeplot(column)'"
      ]
     },
     "execution_count": 8,
     "metadata": {},
     "output_type": "execute_result"
    }
   ],
   "source": [
    "'''for column in item_matrix.T:\n",
    "    plt.figure()\n",
    "    #plt.hist(column, bins = 10)\n",
    "    sns.kdeplot(column)'''"
   ]
  },
  {
   "cell_type": "code",
   "execution_count": 10,
   "metadata": {},
   "outputs": [],
   "source": [
    "n_users = user_features.shape[0]\n",
    "n_items = item_features.shape[0]\n",
    "train_arr = train.values\n",
    "interactions = np.zeros(n_users*n_items).reshape(n_users, n_items)\n",
    "for line in train_arr:\n",
    "    if int(line[2]) == 1:\n",
    "        interactions[line[0]][line[1]] = 1\n",
    "    else:\n",
    "        interactions[line[0]][line[1]] = -1"
   ]
  },
  {
   "cell_type": "code",
   "execution_count": 11,
   "metadata": {},
   "outputs": [
    {
     "data": {
      "text/plain": [
       "array([[ 0.,  1.,  0., ...,  0.,  0.,  0.],\n",
       "       [-1.,  0.,  0., ...,  0.,  0.,  0.],\n",
       "       [ 0.,  0.,  0., ...,  0.,  0.,  0.],\n",
       "       ...,\n",
       "       [ 0.,  0.,  0., ...,  0.,  0.,  0.],\n",
       "       [ 0.,  0.,  0., ...,  0.,  0.,  0.],\n",
       "       [ 0.,  0.,  0., ...,  0.,  0.,  0.]])"
      ]
     },
     "execution_count": 11,
     "metadata": {},
     "output_type": "execute_result"
    }
   ],
   "source": [
    "interactions"
   ]
  },
  {
   "cell_type": "code",
   "execution_count": 12,
   "metadata": {},
   "outputs": [],
   "source": [
    "user_matrix = user_features.iloc[:,1:].values\n",
    "item_matrix = item_features.iloc[:,1:].values"
   ]
  },
  {
   "cell_type": "code",
   "execution_count": 13,
   "metadata": {},
   "outputs": [
    {
     "data": {
      "text/plain": [
       "(497, 32)"
      ]
     },
     "execution_count": 13,
     "metadata": {},
     "output_type": "execute_result"
    }
   ],
   "source": [
    "user_matrix.shape"
   ]
  },
  {
   "cell_type": "code",
   "execution_count": 14,
   "metadata": {},
   "outputs": [],
   "source": [
    "U, s, Vh = linalg.svd(interactions, full_matrices=False)\n",
    "S = np.diag(s[:32])"
   ]
  },
  {
   "cell_type": "code",
   "execution_count": 15,
   "metadata": {},
   "outputs": [
    {
     "data": {
      "text/plain": [
       "'A1 = (user_matrix-np.min(user_matrix))/(np.max(user_matrix)-np.min(user_matrix))\\nA2 = (U[:, :32]-np.min(U[:, :32]))/(np.max(U[:, :32])-np.min(U[:, :32]))\\nA1 = user_matrix / np.max(user_matrix)\\nA2 = U[:, :32] / np.max(U[:, :32])'"
      ]
     },
     "execution_count": 15,
     "metadata": {},
     "output_type": "execute_result"
    }
   ],
   "source": [
    "'''A1 = (user_matrix-np.min(user_matrix))/(np.max(user_matrix)-np.min(user_matrix))\n",
    "A2 = (U[:, :32]-np.min(U[:, :32]))/(np.max(U[:, :32])-np.min(U[:, :32]))\n",
    "A1 = user_matrix / np.max(user_matrix)\n",
    "A2 = U[:, :32] / np.max(U[:, :32])'''\n",
    "\n",
    "#A1 - A2"
   ]
  },
  {
   "cell_type": "code",
   "execution_count": 13,
   "metadata": {},
   "outputs": [
    {
     "name": "stdout",
     "output_type": "stream",
     "text": [
      "(497, 209)\n",
      "(209,)\n",
      "(209, 209)\n"
     ]
    }
   ],
   "source": [
    "print(U.shape)\n",
    "print(s.shape)\n",
    "print(Vh.shape)"
   ]
  },
  {
   "cell_type": "code",
   "execution_count": 16,
   "metadata": {},
   "outputs": [],
   "source": [
    "predictions = np.dot(user_matrix, (S @ item_matrix.T))\n",
    "normalized = (predictions-np.min(predictions))/(np.max(predictions)-np.min(predictions))"
   ]
  },
  {
   "cell_type": "code",
   "execution_count": 18,
   "metadata": {},
   "outputs": [],
   "source": [
    "test_ids = test['user_id'].tolist()\n",
    "n_items = item_features.shape[0]"
   ]
  },
  {
   "cell_type": "code",
   "execution_count": 22,
   "metadata": {},
   "outputs": [],
   "source": [
    "counter = 0\n",
    "def full_pred(pred, liked):\n",
    "    global counter\n",
    "    counter += 1\n",
    "    j = 0\n",
    "    liked2 = [59, 148, 200, 2, 18, 26, 51, 56, 61, 110, 126, 150, 19, 49, 83, 77, 73, 142, 193]\n",
    "    while len(pred) < 20:\n",
    "        if liked2[j] not in liked:\n",
    "            pred.append(liked2[j])\n",
    "        else:\n",
    "            j+=1\n",
    "        j+=1\n",
    "    return pred\n",
    "\n",
    "a = []\n",
    "for user_x in test_ids:\n",
    "    scores = normalized[user_x]\n",
    "    score_dict = {i: scores[i] for i in range(len(scores))}\n",
    "    sorted_ = sorted(score_dict.items(), key=lambda item: item[1], reverse = True) \n",
    "    pred = [k for k, v in sorted_]\n",
    "    liked = [] \n",
    "    for i in range(len(interactions[user_x])):\n",
    "        if int(interactions[user_x][i]) == -1 and i in pred:\n",
    "            pred.remove(i)\n",
    "        if int(interactions[user_x][i]) == 1:\n",
    "            if i in pred:\n",
    "                pred.remove(i)\n",
    "            liked.append(i)\n",
    "    if len(pred) < 20:       \n",
    "        #print(user_x)\n",
    "        pred = full_pred(pred, liked)\n",
    "    \n",
    "    \n",
    "    a.append([user_x] + pred[:20])\n",
    "#print(counter)"
   ]
  },
  {
   "cell_type": "code",
   "execution_count": 21,
   "metadata": {},
   "outputs": [
    {
     "data": {
      "text/html": [
       "<div>\n",
       "<style scoped>\n",
       "    .dataframe tbody tr th:only-of-type {\n",
       "        vertical-align: middle;\n",
       "    }\n",
       "\n",
       "    .dataframe tbody tr th {\n",
       "        vertical-align: top;\n",
       "    }\n",
       "\n",
       "    .dataframe thead th {\n",
       "        text-align: right;\n",
       "    }\n",
       "</style>\n",
       "<table border=\"1\" class=\"dataframe\">\n",
       "  <thead>\n",
       "    <tr style=\"text-align: right;\">\n",
       "      <th></th>\n",
       "      <th>user_id</th>\n",
       "      <th>0</th>\n",
       "      <th>1</th>\n",
       "      <th>2</th>\n",
       "      <th>3</th>\n",
       "      <th>4</th>\n",
       "      <th>5</th>\n",
       "      <th>6</th>\n",
       "      <th>7</th>\n",
       "      <th>8</th>\n",
       "      <th>...</th>\n",
       "      <th>10</th>\n",
       "      <th>11</th>\n",
       "      <th>12</th>\n",
       "      <th>13</th>\n",
       "      <th>14</th>\n",
       "      <th>15</th>\n",
       "      <th>16</th>\n",
       "      <th>17</th>\n",
       "      <th>18</th>\n",
       "      <th>19</th>\n",
       "    </tr>\n",
       "  </thead>\n",
       "  <tbody>\n",
       "    <tr>\n",
       "      <th>0</th>\n",
       "      <td>166</td>\n",
       "      <td>76</td>\n",
       "      <td>35</td>\n",
       "      <td>37</td>\n",
       "      <td>22</td>\n",
       "      <td>60</td>\n",
       "      <td>65</td>\n",
       "      <td>80</td>\n",
       "      <td>72</td>\n",
       "      <td>66</td>\n",
       "      <td>...</td>\n",
       "      <td>58</td>\n",
       "      <td>7</td>\n",
       "      <td>40</td>\n",
       "      <td>11</td>\n",
       "      <td>148</td>\n",
       "      <td>36</td>\n",
       "      <td>21</td>\n",
       "      <td>5</td>\n",
       "      <td>59</td>\n",
       "      <td>146</td>\n",
       "    </tr>\n",
       "    <tr>\n",
       "      <th>1</th>\n",
       "      <td>26</td>\n",
       "      <td>76</td>\n",
       "      <td>35</td>\n",
       "      <td>37</td>\n",
       "      <td>22</td>\n",
       "      <td>60</td>\n",
       "      <td>65</td>\n",
       "      <td>80</td>\n",
       "      <td>72</td>\n",
       "      <td>66</td>\n",
       "      <td>...</td>\n",
       "      <td>58</td>\n",
       "      <td>7</td>\n",
       "      <td>40</td>\n",
       "      <td>11</td>\n",
       "      <td>148</td>\n",
       "      <td>36</td>\n",
       "      <td>21</td>\n",
       "      <td>5</td>\n",
       "      <td>59</td>\n",
       "      <td>146</td>\n",
       "    </tr>\n",
       "    <tr>\n",
       "      <th>2</th>\n",
       "      <td>41</td>\n",
       "      <td>76</td>\n",
       "      <td>35</td>\n",
       "      <td>37</td>\n",
       "      <td>22</td>\n",
       "      <td>60</td>\n",
       "      <td>65</td>\n",
       "      <td>80</td>\n",
       "      <td>72</td>\n",
       "      <td>66</td>\n",
       "      <td>...</td>\n",
       "      <td>58</td>\n",
       "      <td>40</td>\n",
       "      <td>11</td>\n",
       "      <td>148</td>\n",
       "      <td>36</td>\n",
       "      <td>21</td>\n",
       "      <td>5</td>\n",
       "      <td>59</td>\n",
       "      <td>146</td>\n",
       "      <td>87</td>\n",
       "    </tr>\n",
       "    <tr>\n",
       "      <th>3</th>\n",
       "      <td>286</td>\n",
       "      <td>76</td>\n",
       "      <td>35</td>\n",
       "      <td>37</td>\n",
       "      <td>22</td>\n",
       "      <td>60</td>\n",
       "      <td>65</td>\n",
       "      <td>80</td>\n",
       "      <td>72</td>\n",
       "      <td>66</td>\n",
       "      <td>...</td>\n",
       "      <td>58</td>\n",
       "      <td>7</td>\n",
       "      <td>11</td>\n",
       "      <td>148</td>\n",
       "      <td>36</td>\n",
       "      <td>21</td>\n",
       "      <td>5</td>\n",
       "      <td>59</td>\n",
       "      <td>87</td>\n",
       "      <td>146</td>\n",
       "    </tr>\n",
       "    <tr>\n",
       "      <th>4</th>\n",
       "      <td>108</td>\n",
       "      <td>76</td>\n",
       "      <td>35</td>\n",
       "      <td>37</td>\n",
       "      <td>22</td>\n",
       "      <td>60</td>\n",
       "      <td>80</td>\n",
       "      <td>72</td>\n",
       "      <td>66</td>\n",
       "      <td>200</td>\n",
       "      <td>...</td>\n",
       "      <td>7</td>\n",
       "      <td>40</td>\n",
       "      <td>11</td>\n",
       "      <td>148</td>\n",
       "      <td>36</td>\n",
       "      <td>21</td>\n",
       "      <td>5</td>\n",
       "      <td>59</td>\n",
       "      <td>146</td>\n",
       "      <td>87</td>\n",
       "    </tr>\n",
       "  </tbody>\n",
       "</table>\n",
       "<p>5 rows × 21 columns</p>\n",
       "</div>"
      ],
      "text/plain": [
       "   user_id   0   1   2   3   4   5   6   7    8  ...  10  11  12   13   14  \\\n",
       "0      166  76  35  37  22  60  65  80  72   66  ...  58   7  40   11  148   \n",
       "1       26  76  35  37  22  60  65  80  72   66  ...  58   7  40   11  148   \n",
       "2       41  76  35  37  22  60  65  80  72   66  ...  58  40  11  148   36   \n",
       "3      286  76  35  37  22  60  65  80  72   66  ...  58   7  11  148   36   \n",
       "4      108  76  35  37  22  60  80  72  66  200  ...   7  40  11  148   36   \n",
       "\n",
       "   15  16  17   18   19  \n",
       "0  36  21   5   59  146  \n",
       "1  36  21   5   59  146  \n",
       "2  21   5  59  146   87  \n",
       "3  21   5  59   87  146  \n",
       "4  21   5  59  146   87  \n",
       "\n",
       "[5 rows x 21 columns]"
      ]
     },
     "execution_count": 21,
     "metadata": {},
     "output_type": "execute_result"
    }
   ],
   "source": [
    "a = np.array(a)\n",
    "cols = ['user_id'] + [str(i) for i in range(20)]\n",
    "ans = pd.DataFrame(data = a, columns = cols)\n",
    "ans.head()"
   ]
  },
  {
   "cell_type": "code",
   "execution_count": 23,
   "metadata": {},
   "outputs": [],
   "source": [
    "ans.to_csv('ans_.csv', index = False)"
   ]
  }
 ],
 "metadata": {
  "kernelspec": {
   "display_name": "Python 3",
   "language": "python",
   "name": "python3"
  },
  "language_info": {
   "codemirror_mode": {
    "name": "ipython",
    "version": 3
   },
   "file_extension": ".py",
   "mimetype": "text/x-python",
   "name": "python",
   "nbconvert_exporter": "python",
   "pygments_lexer": "ipython3",
   "version": "3.7.1"
  }
 },
 "nbformat": 4,
 "nbformat_minor": 2
}
