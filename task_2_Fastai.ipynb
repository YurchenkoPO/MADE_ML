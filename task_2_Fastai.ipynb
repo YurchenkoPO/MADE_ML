{
 "cells": [
  {
   "cell_type": "code",
   "execution_count": 8,
   "metadata": {},
   "outputs": [],
   "source": [
    "import pandas as pd\n",
    "from fastai.collab import *\n",
    "from fastai.tabular import *\n",
    "import seaborn as sns\n",
    "\n"
   ]
  },
  {
   "cell_type": "code",
   "execution_count": 166,
   "metadata": {},
   "outputs": [],
   "source": [
    "train = pd.read_csv('train.csv', delimiter=',', header = 0)\n",
    "test = pd.read_csv('test.csv', delimiter=',', header = 0)\n",
    "user_features = pd.read_csv('user-features.csv', delimiter = ',', header = 0)\n",
    "item_features = pd.read_csv('item-features.csv', delimiter=',', header = 0)"
   ]
  },
  {
   "cell_type": "code",
   "execution_count": 167,
   "metadata": {},
   "outputs": [],
   "source": [
    "train = train[train['item_id'] < 216]\n",
    "item_features = item_features[item_features['item_id'] < 216]"
   ]
  },
  {
   "cell_type": "code",
   "execution_count": 168,
   "metadata": {},
   "outputs": [
    {
     "data": {
      "text/plain": [
       "set()"
      ]
     },
     "execution_count": 168,
     "metadata": {},
     "output_type": "execute_result"
    }
   ],
   "source": [
    "users = train['user_id']\n",
    "l = range(497)\n",
    "removed = set()\n",
    "for user in users:\n",
    "    if user not in l:\n",
    "        removed.add(user)\n",
    "removed"
   ]
  },
  {
   "cell_type": "code",
   "execution_count": 169,
   "metadata": {},
   "outputs": [
    {
     "data": {
      "text/html": [
       "<div>\n",
       "<style scoped>\n",
       "    .dataframe tbody tr th:only-of-type {\n",
       "        vertical-align: middle;\n",
       "    }\n",
       "\n",
       "    .dataframe tbody tr th {\n",
       "        vertical-align: top;\n",
       "    }\n",
       "\n",
       "    .dataframe thead th {\n",
       "        text-align: right;\n",
       "    }\n",
       "</style>\n",
       "<table border=\"1\" class=\"dataframe\">\n",
       "  <thead>\n",
       "    <tr style=\"text-align: right;\">\n",
       "      <th></th>\n",
       "      <th>user_id</th>\n",
       "      <th>item_id</th>\n",
       "      <th>like</th>\n",
       "      <th>timestamp</th>\n",
       "    </tr>\n",
       "  </thead>\n",
       "  <tbody>\n",
       "    <tr>\n",
       "      <th>1</th>\n",
       "      <td>378</td>\n",
       "      <td>172</td>\n",
       "      <td>1</td>\n",
       "      <td>1490936628</td>\n",
       "    </tr>\n",
       "    <tr>\n",
       "      <th>2</th>\n",
       "      <td>150</td>\n",
       "      <td>182</td>\n",
       "      <td>0</td>\n",
       "      <td>1490936650</td>\n",
       "    </tr>\n",
       "    <tr>\n",
       "      <th>3</th>\n",
       "      <td>455</td>\n",
       "      <td>17</td>\n",
       "      <td>0</td>\n",
       "      <td>1490936704</td>\n",
       "    </tr>\n",
       "    <tr>\n",
       "      <th>5</th>\n",
       "      <td>122</td>\n",
       "      <td>96</td>\n",
       "      <td>0</td>\n",
       "      <td>1490936768</td>\n",
       "    </tr>\n",
       "    <tr>\n",
       "      <th>6</th>\n",
       "      <td>216</td>\n",
       "      <td>129</td>\n",
       "      <td>0</td>\n",
       "      <td>1490936810</td>\n",
       "    </tr>\n",
       "  </tbody>\n",
       "</table>\n",
       "</div>"
      ],
      "text/plain": [
       "   user_id  item_id  like   timestamp\n",
       "1      378      172     1  1490936628\n",
       "2      150      182     0  1490936650\n",
       "3      455       17     0  1490936704\n",
       "5      122       96     0  1490936768\n",
       "6      216      129     0  1490936810"
      ]
     },
     "execution_count": 169,
     "metadata": {},
     "output_type": "execute_result"
    }
   ],
   "source": [
    "train.head()"
   ]
  },
  {
   "cell_type": "code",
   "execution_count": 170,
   "metadata": {},
   "outputs": [],
   "source": [
    "data = CollabDataBunch.from_df(train, seed=42, valid_pct=0.2)"
   ]
  },
  {
   "cell_type": "code",
   "execution_count": 171,
   "metadata": {},
   "outputs": [
    {
     "data": {
      "text/html": [
       "<table border=\"1\" class=\"dataframe\">\n",
       "  <thead>\n",
       "    <tr style=\"text-align: right;\">\n",
       "      <th>user_id</th>\n",
       "      <th>item_id</th>\n",
       "      <th>target</th>\n",
       "    </tr>\n",
       "  </thead>\n",
       "  <tbody>\n",
       "    <tr>\n",
       "      <td>167</td>\n",
       "      <td>128</td>\n",
       "      <td>0.0</td>\n",
       "    </tr>\n",
       "    <tr>\n",
       "      <td>246</td>\n",
       "      <td>92</td>\n",
       "      <td>0.0</td>\n",
       "    </tr>\n",
       "    <tr>\n",
       "      <td>411</td>\n",
       "      <td>121</td>\n",
       "      <td>0.0</td>\n",
       "    </tr>\n",
       "    <tr>\n",
       "      <td>197</td>\n",
       "      <td>173</td>\n",
       "      <td>0.0</td>\n",
       "    </tr>\n",
       "    <tr>\n",
       "      <td>152</td>\n",
       "      <td>213</td>\n",
       "      <td>0.0</td>\n",
       "    </tr>\n",
       "  </tbody>\n",
       "</table>"
      ],
      "text/plain": [
       "<IPython.core.display.HTML object>"
      ]
     },
     "metadata": {},
     "output_type": "display_data"
    }
   ],
   "source": [
    "data.show_batch()"
   ]
  },
  {
   "cell_type": "code",
   "execution_count": 172,
   "metadata": {},
   "outputs": [],
   "source": [
    "y_range = [0, 1]\n",
    "learn = collab_learner(data, n_factors=30, y_range=y_range, wd=1e-1)"
   ]
  },
  {
   "cell_type": "code",
   "execution_count": 173,
   "metadata": {},
   "outputs": [
    {
     "data": {
      "text/html": [
       "\n",
       "    <div>\n",
       "        <style>\n",
       "            /* Turns off some styling */\n",
       "            progress {\n",
       "                /* gets rid of default border in Firefox and Opera. */\n",
       "                border: none;\n",
       "                /* Needs to be in here for Safari polyfill so background images work as expected. */\n",
       "                background-size: auto;\n",
       "            }\n",
       "            .progress-bar-interrupted, .progress-bar-interrupted::-webkit-progress-bar {\n",
       "                background: #F44336;\n",
       "            }\n",
       "        </style>\n",
       "      <progress value='1' class='' max='2' style='width:300px; height:20px; vertical-align: middle;'></progress>\n",
       "      50.00% [1/2 00:00<00:00]\n",
       "    </div>\n",
       "    \n",
       "<table border=\"1\" class=\"dataframe\">\n",
       "  <thead>\n",
       "    <tr style=\"text-align: left;\">\n",
       "      <th>epoch</th>\n",
       "      <th>train_loss</th>\n",
       "      <th>valid_loss</th>\n",
       "      <th>time</th>\n",
       "    </tr>\n",
       "  </thead>\n",
       "  <tbody>\n",
       "    <tr>\n",
       "      <td>0</td>\n",
       "      <td>0.246023</td>\n",
       "      <td>#na#</td>\n",
       "      <td>00:00</td>\n",
       "    </tr>\n",
       "  </tbody>\n",
       "</table><p>\n",
       "\n",
       "    <div>\n",
       "        <style>\n",
       "            /* Turns off some styling */\n",
       "            progress {\n",
       "                /* gets rid of default border in Firefox and Opera. */\n",
       "                border: none;\n",
       "                /* Needs to be in here for Safari polyfill so background images work as expected. */\n",
       "                background-size: auto;\n",
       "            }\n",
       "            .progress-bar-interrupted, .progress-bar-interrupted::-webkit-progress-bar {\n",
       "                background: #F44336;\n",
       "            }\n",
       "        </style>\n",
       "      <progress value='21' class='' max='72' style='width:300px; height:20px; vertical-align: middle;'></progress>\n",
       "      29.17% [21/72 00:00<00:00 0.2211]\n",
       "    </div>\n",
       "    "
      ],
      "text/plain": [
       "<IPython.core.display.HTML object>"
      ]
     },
     "metadata": {},
     "output_type": "display_data"
    },
    {
     "name": "stdout",
     "output_type": "stream",
     "text": [
      "LR Finder is complete, type {learner_name}.recorder.plot() to see the graph.\n"
     ]
    },
    {
     "data": {
      "image/png": "[encoded data removed]",
      "text/plain": [
       "<Figure size 432x288 with 1 Axes>"
      ]
     },
     "metadata": {
      "needs_background": "light"
     },
     "output_type": "display_data"
    }
   ],
   "source": [
    "learn.lr_find()\n",
    "learn.recorder.plot(skip_end=15)"
   ]
  },
  {
   "cell_type": "code",
   "execution_count": 174,
   "metadata": {},
   "outputs": [
    {
     "data": {
      "text/html": [
       "<table border=\"1\" class=\"dataframe\">\n",
       "  <thead>\n",
       "    <tr style=\"text-align: left;\">\n",
       "      <th>epoch</th>\n",
       "      <th>train_loss</th>\n",
       "      <th>valid_loss</th>\n",
       "      <th>time</th>\n",
       "    </tr>\n",
       "  </thead>\n",
       "  <tbody>\n",
       "    <tr>\n",
       "      <td>0</td>\n",
       "      <td>0.244842</td>\n",
       "      <td>0.236790</td>\n",
       "      <td>00:01</td>\n",
       "    </tr>\n",
       "    <tr>\n",
       "      <td>1</td>\n",
       "      <td>0.192139</td>\n",
       "      <td>0.144262</td>\n",
       "      <td>00:00</td>\n",
       "    </tr>\n",
       "    <tr>\n",
       "      <td>2</td>\n",
       "      <td>0.123569</td>\n",
       "      <td>0.110837</td>\n",
       "      <td>00:00</td>\n",
       "    </tr>\n",
       "    <tr>\n",
       "      <td>3</td>\n",
       "      <td>0.090345</td>\n",
       "      <td>0.104850</td>\n",
       "      <td>00:00</td>\n",
       "    </tr>\n",
       "    <tr>\n",
       "      <td>4</td>\n",
       "      <td>0.078213</td>\n",
       "      <td>0.104124</td>\n",
       "      <td>00:00</td>\n",
       "    </tr>\n",
       "  </tbody>\n",
       "</table>"
      ],
      "text/plain": [
       "<IPython.core.display.HTML object>"
      ]
     },
     "metadata": {},
     "output_type": "display_data"
    }
   ],
   "source": [
    "learn.fit_one_cycle(5, 5e-3)"
   ]
  },
  {
   "cell_type": "code",
   "execution_count": 175,
   "metadata": {},
   "outputs": [
    {
     "data": {
      "text/plain": [
       "EmbeddingDotBias(\n",
       "  (u_weight): Embedding(498, 30)\n",
       "  (i_weight): Embedding(215, 30)\n",
       "  (u_bias): Embedding(498, 1)\n",
       "  (i_bias): Embedding(215, 1)\n",
       ")"
      ]
     },
     "execution_count": 175,
     "metadata": {},
     "output_type": "execute_result"
    }
   ],
   "source": [
    "learn.model"
   ]
  },
  {
   "cell_type": "code",
   "execution_count": 37,
   "metadata": {},
   "outputs": [],
   "source": [
    "'''def score(learner, userIds, movieIds, user_col, item_col, prediction_col, top_k=20):\n",
    "    \"\"\"score all users+movies provided and reduce to top_k items per user if top_k>0\"\"\"\n",
    "    u = learner.get_idx(userIds, is_item=False)\n",
    "    m = learner.get_idx(movieIds, is_item=True)\n",
    "    \n",
    "    pred = learner.model.forward(u, m)\n",
    "    scores = pd.DataFrame({user_col: userIds, item_col:movieIds, prediction_col:pred})\n",
    "    scores =  scores.sort_values([user_col,prediction_col],ascending=[True,False])\n",
    "    if top_k > 0:\n",
    "        top_scores = scores.groupby(user_col).head(top_k).reset_index(drop=True)\n",
    "    else:\n",
    "        top_scores = scores\n",
    "    return top_scores'''"
   ]
  },
  {
   "cell_type": "code",
   "execution_count": 176,
   "metadata": {},
   "outputs": [],
   "source": [
    "test_ids = test['user_id'].tolist()\n",
    "n_items = item_features.shape[0]\n",
    "#learn.model(torch.tensor([0]), torch.tensor(range(n_items)))"
   ]
  },
  {
   "cell_type": "code",
   "execution_count": 178,
   "metadata": {},
   "outputs": [],
   "source": [
    "a = []\n",
    "for user_x in test_ids:\n",
    "    scores = learn.model(torch.tensor([user_x]), torch.tensor(np.arange(215)))\n",
    "    score_dict = {i: scores[i] for i in range(len(scores))}\n",
    "    top_20_items = [k for k, v in sorted(score_dict.items(), key=lambda item: item[1], reverse = True)]\n",
    "    a.append([user_x] + top_20_items[:20])"
   ]
  },
  {
   "cell_type": "code",
   "execution_count": 179,
   "metadata": {},
   "outputs": [
    {
     "data": {
      "text/html": [
       "<div>\n",
       "<style scoped>\n",
       "    .dataframe tbody tr th:only-of-type {\n",
       "        vertical-align: middle;\n",
       "    }\n",
       "\n",
       "    .dataframe tbody tr th {\n",
       "        vertical-align: top;\n",
       "    }\n",
       "\n",
       "    .dataframe thead th {\n",
       "        text-align: right;\n",
       "    }\n",
       "</style>\n",
       "<table border=\"1\" class=\"dataframe\">\n",
       "  <thead>\n",
       "    <tr style=\"text-align: right;\">\n",
       "      <th></th>\n",
       "      <th>user_id</th>\n",
       "      <th>0</th>\n",
       "      <th>1</th>\n",
       "      <th>2</th>\n",
       "      <th>3</th>\n",
       "      <th>4</th>\n",
       "      <th>5</th>\n",
       "      <th>6</th>\n",
       "      <th>7</th>\n",
       "      <th>8</th>\n",
       "      <th>...</th>\n",
       "      <th>10</th>\n",
       "      <th>11</th>\n",
       "      <th>12</th>\n",
       "      <th>13</th>\n",
       "      <th>14</th>\n",
       "      <th>15</th>\n",
       "      <th>16</th>\n",
       "      <th>17</th>\n",
       "      <th>18</th>\n",
       "      <th>19</th>\n",
       "    </tr>\n",
       "  </thead>\n",
       "  <tbody>\n",
       "    <tr>\n",
       "      <th>0</th>\n",
       "      <td>166</td>\n",
       "      <td>108</td>\n",
       "      <td>64</td>\n",
       "      <td>165</td>\n",
       "      <td>144</td>\n",
       "      <td>101</td>\n",
       "      <td>45</td>\n",
       "      <td>71</td>\n",
       "      <td>139</td>\n",
       "      <td>93</td>\n",
       "      <td>...</td>\n",
       "      <td>178</td>\n",
       "      <td>58</td>\n",
       "      <td>119</td>\n",
       "      <td>194</td>\n",
       "      <td>189</td>\n",
       "      <td>198</td>\n",
       "      <td>173</td>\n",
       "      <td>18</td>\n",
       "      <td>116</td>\n",
       "      <td>31</td>\n",
       "    </tr>\n",
       "    <tr>\n",
       "      <th>1</th>\n",
       "      <td>26</td>\n",
       "      <td>23</td>\n",
       "      <td>36</td>\n",
       "      <td>73</td>\n",
       "      <td>38</td>\n",
       "      <td>59</td>\n",
       "      <td>77</td>\n",
       "      <td>61</td>\n",
       "      <td>81</td>\n",
       "      <td>66</td>\n",
       "      <td>...</td>\n",
       "      <td>20</td>\n",
       "      <td>67</td>\n",
       "      <td>50</td>\n",
       "      <td>8</td>\n",
       "      <td>74</td>\n",
       "      <td>112</td>\n",
       "      <td>84</td>\n",
       "      <td>143</td>\n",
       "      <td>137</td>\n",
       "      <td>22</td>\n",
       "    </tr>\n",
       "    <tr>\n",
       "      <th>2</th>\n",
       "      <td>41</td>\n",
       "      <td>23</td>\n",
       "      <td>8</td>\n",
       "      <td>2</td>\n",
       "      <td>20</td>\n",
       "      <td>73</td>\n",
       "      <td>112</td>\n",
       "      <td>88</td>\n",
       "      <td>50</td>\n",
       "      <td>22</td>\n",
       "      <td>...</td>\n",
       "      <td>77</td>\n",
       "      <td>61</td>\n",
       "      <td>38</td>\n",
       "      <td>84</td>\n",
       "      <td>27</td>\n",
       "      <td>36</td>\n",
       "      <td>137</td>\n",
       "      <td>46</td>\n",
       "      <td>12</td>\n",
       "      <td>100</td>\n",
       "    </tr>\n",
       "    <tr>\n",
       "      <th>3</th>\n",
       "      <td>286</td>\n",
       "      <td>77</td>\n",
       "      <td>23</td>\n",
       "      <td>36</td>\n",
       "      <td>73</td>\n",
       "      <td>66</td>\n",
       "      <td>59</td>\n",
       "      <td>61</td>\n",
       "      <td>38</td>\n",
       "      <td>81</td>\n",
       "      <td>...</td>\n",
       "      <td>41</td>\n",
       "      <td>143</td>\n",
       "      <td>148</td>\n",
       "      <td>146</td>\n",
       "      <td>115</td>\n",
       "      <td>20</td>\n",
       "      <td>76</td>\n",
       "      <td>151</td>\n",
       "      <td>78</td>\n",
       "      <td>12</td>\n",
       "    </tr>\n",
       "    <tr>\n",
       "      <th>4</th>\n",
       "      <td>108</td>\n",
       "      <td>36</td>\n",
       "      <td>23</td>\n",
       "      <td>73</td>\n",
       "      <td>77</td>\n",
       "      <td>81</td>\n",
       "      <td>38</td>\n",
       "      <td>61</td>\n",
       "      <td>66</td>\n",
       "      <td>59</td>\n",
       "      <td>...</td>\n",
       "      <td>67</td>\n",
       "      <td>146</td>\n",
       "      <td>20</td>\n",
       "      <td>148</td>\n",
       "      <td>143</td>\n",
       "      <td>151</td>\n",
       "      <td>8</td>\n",
       "      <td>78</td>\n",
       "      <td>137</td>\n",
       "      <td>123</td>\n",
       "    </tr>\n",
       "  </tbody>\n",
       "</table>\n",
       "<p>5 rows × 21 columns</p>\n",
       "</div>"
      ],
      "text/plain": [
       "   user_id    0   1    2    3    4    5   6    7   8  ...   10   11   12   13  \\\n",
       "0      166  108  64  165  144  101   45  71  139  93  ...  178   58  119  194   \n",
       "1       26   23  36   73   38   59   77  61   81  66  ...   20   67   50    8   \n",
       "2       41   23   8    2   20   73  112  88   50  22  ...   77   61   38   84   \n",
       "3      286   77  23   36   73   66   59  61   38  81  ...   41  143  148  146   \n",
       "4      108   36  23   73   77   81   38  61   66  59  ...   67  146   20  148   \n",
       "\n",
       "    14   15   16   17   18   19  \n",
       "0  189  198  173   18  116   31  \n",
       "1   74  112   84  143  137   22  \n",
       "2   27   36  137   46   12  100  \n",
       "3  115   20   76  151   78   12  \n",
       "4  143  151    8   78  137  123  \n",
       "\n",
       "[5 rows x 21 columns]"
      ]
     },
     "execution_count": 179,
     "metadata": {},
     "output_type": "execute_result"
    }
   ],
   "source": [
    "a = np.array(a)\n",
    "cols = ['user_id'] + [str(i) for i in range(20)]\n",
    "ans = pd.DataFrame(data = a, columns = cols)\n",
    "ans.head()"
   ]
  },
  {
   "cell_type": "code",
   "execution_count": 180,
   "metadata": {},
   "outputs": [],
   "source": [
    "ans.to_csv('ans_2.csv', index = False)"
   ]
  },
  {
   "cell_type": "code",
   "execution_count": null,
   "metadata": {},
   "outputs": [],
   "source": []
  }
 ],
 "metadata": {
  "kernelspec": {
   "display_name": "Python 3",
   "language": "python",
   "name": "python3"
  },
  "language_info": {
   "codemirror_mode": {
    "name": "ipython",
    "version": 3
   },
   "file_extension": ".py",
   "mimetype": "text/x-python",
   "name": "python",
   "nbconvert_exporter": "python",
   "pygments_lexer": "ipython3",
   "version": "3.7.1"
  }
 },
 "nbformat": 4,
 "nbformat_minor": 2
}
